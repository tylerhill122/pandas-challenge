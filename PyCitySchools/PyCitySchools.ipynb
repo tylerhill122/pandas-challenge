{
 "cells": [
  {
   "cell_type": "code",
   "execution_count": 1,
   "id": "64007d09",
   "metadata": {},
   "outputs": [],
   "source": [
    "import pandas as pd"
   ]
  },
  {
   "cell_type": "code",
   "execution_count": 2,
   "id": "a3dbe6ab",
   "metadata": {},
   "outputs": [],
   "source": [
    "school_data_file = \"Resources/schools_complete.csv\"\n",
    "student_data_file = \"Resources/students_complete.csv\""
   ]
  },
  {
   "cell_type": "code",
   "execution_count": 3,
   "id": "3700cfff",
   "metadata": {},
   "outputs": [],
   "source": [
    "school_data = pd.read_csv(school_data_file)\n",
    "student_data = pd.read_csv(student_data_file)"
   ]
  },
  {
   "cell_type": "code",
   "execution_count": 4,
   "id": "f9cca83f",
   "metadata": {},
   "outputs": [
    {
     "data": {
      "text/html": [
       "<div>\n",
       "<style scoped>\n",
       "    .dataframe tbody tr th:only-of-type {\n",
       "        vertical-align: middle;\n",
       "    }\n",
       "\n",
       "    .dataframe tbody tr th {\n",
       "        vertical-align: top;\n",
       "    }\n",
       "\n",
       "    .dataframe thead th {\n",
       "        text-align: right;\n",
       "    }\n",
       "</style>\n",
       "<table border=\"1\" class=\"dataframe\">\n",
       "  <thead>\n",
       "    <tr style=\"text-align: right;\">\n",
       "      <th></th>\n",
       "      <th>Student ID</th>\n",
       "      <th>student_name</th>\n",
       "      <th>gender</th>\n",
       "      <th>grade</th>\n",
       "      <th>school_name</th>\n",
       "      <th>reading_score</th>\n",
       "      <th>math_score</th>\n",
       "      <th>School ID</th>\n",
       "      <th>type</th>\n",
       "      <th>size</th>\n",
       "      <th>budget</th>\n",
       "    </tr>\n",
       "  </thead>\n",
       "  <tbody>\n",
       "    <tr>\n",
       "      <th>0</th>\n",
       "      <td>0</td>\n",
       "      <td>Paul Bradley</td>\n",
       "      <td>M</td>\n",
       "      <td>9th</td>\n",
       "      <td>Huang High School</td>\n",
       "      <td>66</td>\n",
       "      <td>79</td>\n",
       "      <td>0</td>\n",
       "      <td>District</td>\n",
       "      <td>2917</td>\n",
       "      <td>1910635</td>\n",
       "    </tr>\n",
       "    <tr>\n",
       "      <th>1</th>\n",
       "      <td>1</td>\n",
       "      <td>Victor Smith</td>\n",
       "      <td>M</td>\n",
       "      <td>12th</td>\n",
       "      <td>Huang High School</td>\n",
       "      <td>94</td>\n",
       "      <td>61</td>\n",
       "      <td>0</td>\n",
       "      <td>District</td>\n",
       "      <td>2917</td>\n",
       "      <td>1910635</td>\n",
       "    </tr>\n",
       "    <tr>\n",
       "      <th>2</th>\n",
       "      <td>2</td>\n",
       "      <td>Kevin Rodriguez</td>\n",
       "      <td>M</td>\n",
       "      <td>12th</td>\n",
       "      <td>Huang High School</td>\n",
       "      <td>90</td>\n",
       "      <td>60</td>\n",
       "      <td>0</td>\n",
       "      <td>District</td>\n",
       "      <td>2917</td>\n",
       "      <td>1910635</td>\n",
       "    </tr>\n",
       "    <tr>\n",
       "      <th>3</th>\n",
       "      <td>3</td>\n",
       "      <td>Dr. Richard Scott</td>\n",
       "      <td>M</td>\n",
       "      <td>12th</td>\n",
       "      <td>Huang High School</td>\n",
       "      <td>67</td>\n",
       "      <td>58</td>\n",
       "      <td>0</td>\n",
       "      <td>District</td>\n",
       "      <td>2917</td>\n",
       "      <td>1910635</td>\n",
       "    </tr>\n",
       "    <tr>\n",
       "      <th>4</th>\n",
       "      <td>4</td>\n",
       "      <td>Bonnie Ray</td>\n",
       "      <td>F</td>\n",
       "      <td>9th</td>\n",
       "      <td>Huang High School</td>\n",
       "      <td>97</td>\n",
       "      <td>84</td>\n",
       "      <td>0</td>\n",
       "      <td>District</td>\n",
       "      <td>2917</td>\n",
       "      <td>1910635</td>\n",
       "    </tr>\n",
       "  </tbody>\n",
       "</table>\n",
       "</div>"
      ],
      "text/plain": [
       "   Student ID       student_name gender grade        school_name  \\\n",
       "0           0       Paul Bradley      M   9th  Huang High School   \n",
       "1           1       Victor Smith      M  12th  Huang High School   \n",
       "2           2    Kevin Rodriguez      M  12th  Huang High School   \n",
       "3           3  Dr. Richard Scott      M  12th  Huang High School   \n",
       "4           4         Bonnie Ray      F   9th  Huang High School   \n",
       "\n",
       "   reading_score  math_score  School ID      type  size   budget  \n",
       "0             66          79          0  District  2917  1910635  \n",
       "1             94          61          0  District  2917  1910635  \n",
       "2             90          60          0  District  2917  1910635  \n",
       "3             67          58          0  District  2917  1910635  \n",
       "4             97          84          0  District  2917  1910635  "
      ]
     },
     "execution_count": 4,
     "metadata": {},
     "output_type": "execute_result"
    }
   ],
   "source": [
    "merged = pd.merge(student_data, school_data, how=\"left\", on=[\"school_name\", \"school_name\"])\n",
    "merged.head()"
   ]
  },
  {
   "cell_type": "code",
   "execution_count": 5,
   "id": "64305014",
   "metadata": {
    "scrolled": true
   },
   "outputs": [
    {
     "name": "stdout",
     "output_type": "stream",
     "text": [
      "['Huang High School' 'Figueroa High School' 'Shelton High School'\n",
      " 'Hernandez High School' 'Griffin High School' 'Wilson High School'\n",
      " 'Cabrera High School' 'Bailey High School' 'Holden High School'\n",
      " 'Pena High School' 'Wright High School' 'Rodriguez High School'\n",
      " 'Johnson High School' 'Ford High School' 'Thomas High School']\n"
     ]
    }
   ],
   "source": [
    "schools = merged[\"school_name\"].unique()\n",
    "print(schools)"
   ]
  },
  {
   "cell_type": "code",
   "execution_count": 6,
   "id": "245062e3",
   "metadata": {},
   "outputs": [
    {
     "name": "stdout",
     "output_type": "stream",
     "text": [
      "15\n"
     ]
    }
   ],
   "source": [
    "num_schools = int(len(schools))\n",
    "print(num_schools)"
   ]
  },
  {
   "cell_type": "code",
   "execution_count": 7,
   "id": "6b03923c",
   "metadata": {},
   "outputs": [
    {
     "name": "stdout",
     "output_type": "stream",
     "text": [
      "39170\n"
     ]
    }
   ],
   "source": [
    "num_students = int(merged[\"student_name\"].count())\n",
    "print(num_students)"
   ]
  },
  {
   "cell_type": "code",
   "execution_count": 8,
   "id": "01072e7b",
   "metadata": {},
   "outputs": [
    {
     "name": "stdout",
     "output_type": "stream",
     "text": [
      "24649428.0\n"
     ]
    }
   ],
   "source": [
    "budget = merged[\"budget\"].unique()\n",
    "total_budget = float(sum(budget))\n",
    "print(total_budget)"
   ]
  },
  {
   "cell_type": "code",
   "execution_count": 9,
   "id": "5374bd05",
   "metadata": {},
   "outputs": [
    {
     "name": "stdout",
     "output_type": "stream",
     "text": [
      "78.98537145774827\n"
     ]
    }
   ],
   "source": [
    "math = merged[\"math_score\"]\n",
    "math_score = float(math.mean())\n",
    "print(math_score)"
   ]
  },
  {
   "cell_type": "code",
   "execution_count": 10,
   "id": "05083151",
   "metadata": {},
   "outputs": [
    {
     "name": "stdout",
     "output_type": "stream",
     "text": [
      "81.87784018381414\n"
     ]
    }
   ],
   "source": [
    "reading = merged[\"reading_score\"]\n",
    "reading_score = float(reading.mean())\n",
    "print(reading_score)"
   ]
  },
  {
   "cell_type": "code",
   "execution_count": 31,
   "id": "e59b7287",
   "metadata": {},
   "outputs": [
    {
     "name": "stdout",
     "output_type": "stream",
     "text": [
      "29370\n"
     ]
    }
   ],
   "source": [
    "passing_math = merged.loc[(math >= 70), :]\n",
    "pass_math = passing_math[\"Student ID\"].count()\n",
    "print(pass_math)"
   ]
  },
  {
   "cell_type": "code",
   "execution_count": 12,
   "id": "af126336",
   "metadata": {},
   "outputs": [],
   "source": [
    "passing_reading = merged.loc[(reading >= 70), :]\n",
    "pass_read = passing_reading[\"Student ID\"].count()"
   ]
  },
  {
   "cell_type": "code",
   "execution_count": 13,
   "id": "780d4e00",
   "metadata": {},
   "outputs": [
    {
     "name": "stdout",
     "output_type": "stream",
     "text": [
      "74.9808526933878\n"
     ]
    }
   ],
   "source": [
    "percent_pass_math = (pass_math / num_students) * 100\n",
    "print(percent_pass_math)"
   ]
  },
  {
   "cell_type": "code",
   "execution_count": 14,
   "id": "c22f18d2",
   "metadata": {},
   "outputs": [
    {
     "name": "stdout",
     "output_type": "stream",
     "text": [
      "85.80546336482001\n"
     ]
    }
   ],
   "source": [
    "percent_pass_read = (pass_read / num_students) * 100\n",
    "print(percent_pass_read)"
   ]
  },
  {
   "cell_type": "code",
   "execution_count": 15,
   "id": "b62f879f",
   "metadata": {},
   "outputs": [
    {
     "name": "stdout",
     "output_type": "stream",
     "text": [
      "65.17232575950983\n"
     ]
    }
   ],
   "source": [
    "overall_passing = merged.loc[(math >= 70) & (reading >= 70)]\n",
    "overall_passing[\"Student ID\"].head()\n",
    "overall_passing_num = overall_passing[\"Student ID\"].count()\n",
    "percent_passing = (overall_passing_num / num_students) * 100\n",
    "print(percent_passing)"
   ]
  },
  {
   "cell_type": "code",
   "execution_count": 16,
   "id": "515fbb10",
   "metadata": {},
   "outputs": [
    {
     "data": {
      "text/html": [
       "<div>\n",
       "<style scoped>\n",
       "    .dataframe tbody tr th:only-of-type {\n",
       "        vertical-align: middle;\n",
       "    }\n",
       "\n",
       "    .dataframe tbody tr th {\n",
       "        vertical-align: top;\n",
       "    }\n",
       "\n",
       "    .dataframe thead th {\n",
       "        text-align: right;\n",
       "    }\n",
       "</style>\n",
       "<table border=\"1\" class=\"dataframe\">\n",
       "  <thead>\n",
       "    <tr style=\"text-align: right;\">\n",
       "      <th></th>\n",
       "      <th>Total Schools</th>\n",
       "      <th>Total Students</th>\n",
       "      <th>Total Budget</th>\n",
       "      <th>Average Math Score</th>\n",
       "      <th>Average Reading Score</th>\n",
       "      <th>Percent Passing Math</th>\n",
       "      <th>Percent Passing Reading</th>\n",
       "      <th>Percent Passing Overall</th>\n",
       "    </tr>\n",
       "  </thead>\n",
       "  <tbody>\n",
       "    <tr>\n",
       "      <th>0</th>\n",
       "      <td>15</td>\n",
       "      <td>39170</td>\n",
       "      <td>24649428.0</td>\n",
       "      <td>78.985371</td>\n",
       "      <td>81.87784</td>\n",
       "      <td>74.980853</td>\n",
       "      <td>85.805463</td>\n",
       "      <td>65.172326</td>\n",
       "    </tr>\n",
       "  </tbody>\n",
       "</table>\n",
       "</div>"
      ],
      "text/plain": [
       "   Total Schools  Total Students  Total Budget  Average Math Score  \\\n",
       "0             15           39170    24649428.0           78.985371   \n",
       "\n",
       "   Average Reading Score  Percent Passing Math  Percent Passing Reading  \\\n",
       "0               81.87784             74.980853                85.805463   \n",
       "\n",
       "   Percent Passing Overall  \n",
       "0                65.172326  "
      ]
     },
     "execution_count": 16,
     "metadata": {},
     "output_type": "execute_result"
    }
   ],
   "source": [
    "district_summary = {\n",
    "    \"Total Schools\": num_schools, \n",
    "    \"Total Students\": num_students, \n",
    "    \"Total Budget\": total_budget,\n",
    "    \"Average Math Score\": math_score,\n",
    "    \"Average Reading Score\": reading_score,\n",
    "    \"Percent Passing Math\": percent_pass_math,\n",
    "    \"Percent Passing Reading\": percent_pass_read,\n",
    "    \"Percent Passing Overall\": percent_passing\n",
    "}\n",
    "district_summary_df = pd.DataFrame(district_summary, index=[0])\n",
    "district_summary_df.head()"
   ]
  },
  {
   "cell_type": "code",
   "execution_count": 17,
   "id": "ea095079",
   "metadata": {},
   "outputs": [
    {
     "data": {
      "text/html": [
       "<div>\n",
       "<style scoped>\n",
       "    .dataframe tbody tr th:only-of-type {\n",
       "        vertical-align: middle;\n",
       "    }\n",
       "\n",
       "    .dataframe tbody tr th {\n",
       "        vertical-align: top;\n",
       "    }\n",
       "\n",
       "    .dataframe thead th {\n",
       "        text-align: right;\n",
       "    }\n",
       "</style>\n",
       "<table border=\"1\" class=\"dataframe\">\n",
       "  <thead>\n",
       "    <tr style=\"text-align: right;\">\n",
       "      <th></th>\n",
       "      <th>Total Schools</th>\n",
       "      <th>Total Students</th>\n",
       "      <th>Total Budget</th>\n",
       "      <th>Average Math Score</th>\n",
       "      <th>Average Reading Score</th>\n",
       "      <th>Percent Passing Math</th>\n",
       "      <th>Percent Passing Reading</th>\n",
       "      <th>Percent Passing Overall</th>\n",
       "    </tr>\n",
       "  </thead>\n",
       "  <tbody>\n",
       "    <tr>\n",
       "      <th>0</th>\n",
       "      <td>15</td>\n",
       "      <td>39,170</td>\n",
       "      <td>$24,649,428.00</td>\n",
       "      <td>78.985371</td>\n",
       "      <td>81.87784</td>\n",
       "      <td>74.980853</td>\n",
       "      <td>85.805463</td>\n",
       "      <td>65.172326</td>\n",
       "    </tr>\n",
       "  </tbody>\n",
       "</table>\n",
       "</div>"
      ],
      "text/plain": [
       "   Total Schools Total Students    Total Budget  Average Math Score  \\\n",
       "0             15         39,170  $24,649,428.00           78.985371   \n",
       "\n",
       "   Average Reading Score  Percent Passing Math  Percent Passing Reading  \\\n",
       "0               81.87784             74.980853                85.805463   \n",
       "\n",
       "   Percent Passing Overall  \n",
       "0                65.172326  "
      ]
     },
     "execution_count": 17,
     "metadata": {},
     "output_type": "execute_result"
    }
   ],
   "source": [
    "#formatting\n",
    "district_summary_df[\"Total Students\"] = district_summary_df[\"Total Students\"].map(\"{:,}\".format)\n",
    "district_summary_df[\"Total Budget\"] = district_summary_df[\"Total Budget\"].astype(float).map(\"${:,.2f}\".format)\n",
    "district_summary_df.head()"
   ]
  },
  {
   "cell_type": "code",
   "execution_count": 39,
   "id": "085572cc",
   "metadata": {},
   "outputs": [],
   "source": [
    "school_passing_math = merged.loc[(math >= 70), :]\n",
    "school_pass_math = school_passing_math.groupby(\"school_name\").student_name.count()\n",
    "school_passing_reading = merged.loc[(reading >= 70), :]\n",
    "school_pass_read = school_passing_reading.groupby(\"school_name\").student_name.count()"
   ]
  },
  {
   "cell_type": "code",
   "execution_count": 42,
   "id": "52a9b29f",
   "metadata": {},
   "outputs": [
    {
     "name": "stdout",
     "output_type": "stream",
     "text": [
      "school_name\n",
      "Bailey High School       2719\n",
      "Cabrera High School      1697\n",
      "Figueroa High School     1569\n",
      "Ford High School         1487\n",
      "Griffin High School      1330\n",
      "Hernandez High School    2481\n",
      "Holden High School        381\n",
      "Huang High School        1561\n",
      "Johnson High School      2549\n",
      "Pena High School          871\n",
      "Rodriguez High School    2119\n",
      "Shelton High School      1583\n",
      "Thomas High School       1487\n",
      "Wilson High School       2068\n",
      "Wright High School       1626\n",
      "Name: student_name, dtype: int64\n",
      "school_name\n",
      "Bailey High School       54.642283\n",
      "Cabrera High School      91.334769\n",
      "Figueroa High School     53.204476\n",
      "Ford High School         54.289887\n",
      "Griffin High School      90.599455\n",
      "Hernandez High School    53.527508\n",
      "Holden High School       89.227166\n",
      "Huang High School        53.513884\n",
      "Johnson High School      53.539172\n",
      "Pena High School         90.540541\n",
      "Rodriguez High School    52.988247\n",
      "Shelton High School      89.892107\n",
      "Thomas High School       90.948012\n",
      "Wilson High School       90.582567\n",
      "Wright High School       90.333333\n",
      "Name: student_name, dtype: float64\n"
     ]
    }
   ],
   "source": [
    "school_overall_passing = merged.loc[(math >= 70) & (reading >= 70)]\n",
    "school_overall_passing_num = school_overall_passing.groupby(\"school_name\").student_name.count()\n",
    "school_percent_passing = (school_overall_passing_num / school_num_students) * 100"
   ]
  },
  {
   "cell_type": "code",
   "execution_count": 18,
   "id": "0c325a4b",
   "metadata": {
    "scrolled": false
   },
   "outputs": [],
   "source": [
    "school_avg_budget = [merged.groupby(\"school_name\").budget.mean()]"
   ]
  },
  {
   "cell_type": "code",
   "execution_count": 19,
   "id": "070c58f3",
   "metadata": {},
   "outputs": [],
   "source": [
    "school_num_students = merged.groupby(\"school_name\").student_name.count()"
   ]
  },
  {
   "cell_type": "code",
   "execution_count": 20,
   "id": "d2a24f4a",
   "metadata": {},
   "outputs": [],
   "source": [
    "school_avg_math_score = merged.groupby(\"school_name\").math_score.mean()"
   ]
  },
  {
   "cell_type": "code",
   "execution_count": 21,
   "id": "7b1e68be",
   "metadata": {},
   "outputs": [],
   "source": [
    "school_avg_read_score = merged.groupby(\"school_name\").reading_score.mean()"
   ]
  },
  {
   "cell_type": "code",
   "execution_count": 22,
   "id": "1090e589",
   "metadata": {},
   "outputs": [
    {
     "data": {
      "text/html": [
       "<div>\n",
       "<style scoped>\n",
       "    .dataframe tbody tr th:only-of-type {\n",
       "        vertical-align: middle;\n",
       "    }\n",
       "\n",
       "    .dataframe tbody tr th {\n",
       "        vertical-align: top;\n",
       "    }\n",
       "\n",
       "    .dataframe thead th {\n",
       "        text-align: right;\n",
       "    }\n",
       "</style>\n",
       "<table border=\"1\" class=\"dataframe\">\n",
       "  <thead>\n",
       "    <tr style=\"text-align: right;\">\n",
       "      <th></th>\n",
       "      <th>Student ID</th>\n",
       "      <th>reading_score</th>\n",
       "      <th>math_score</th>\n",
       "      <th>School ID</th>\n",
       "      <th>size</th>\n",
       "      <th>budget</th>\n",
       "    </tr>\n",
       "    <tr>\n",
       "      <th>school_name</th>\n",
       "      <th></th>\n",
       "      <th></th>\n",
       "      <th></th>\n",
       "      <th></th>\n",
       "      <th></th>\n",
       "      <th></th>\n",
       "    </tr>\n",
       "  </thead>\n",
       "  <tbody>\n",
       "    <tr>\n",
       "      <th>Bailey High School</th>\n",
       "      <td>20358.5</td>\n",
       "      <td>81.033963</td>\n",
       "      <td>77.048432</td>\n",
       "      <td>7.0</td>\n",
       "      <td>4976.0</td>\n",
       "      <td>3124928.0</td>\n",
       "    </tr>\n",
       "    <tr>\n",
       "      <th>Cabrera High School</th>\n",
       "      <td>16941.5</td>\n",
       "      <td>83.975780</td>\n",
       "      <td>83.061895</td>\n",
       "      <td>6.0</td>\n",
       "      <td>1858.0</td>\n",
       "      <td>1081356.0</td>\n",
       "    </tr>\n",
       "    <tr>\n",
       "      <th>Figueroa High School</th>\n",
       "      <td>4391.0</td>\n",
       "      <td>81.158020</td>\n",
       "      <td>76.711767</td>\n",
       "      <td>1.0</td>\n",
       "      <td>2949.0</td>\n",
       "      <td>1884411.0</td>\n",
       "    </tr>\n",
       "    <tr>\n",
       "      <th>Ford High School</th>\n",
       "      <td>36165.0</td>\n",
       "      <td>80.746258</td>\n",
       "      <td>77.102592</td>\n",
       "      <td>13.0</td>\n",
       "      <td>2739.0</td>\n",
       "      <td>1763916.0</td>\n",
       "    </tr>\n",
       "    <tr>\n",
       "      <th>Griffin High School</th>\n",
       "      <td>12995.5</td>\n",
       "      <td>83.816757</td>\n",
       "      <td>83.351499</td>\n",
       "      <td>4.0</td>\n",
       "      <td>1468.0</td>\n",
       "      <td>917500.0</td>\n",
       "    </tr>\n",
       "  </tbody>\n",
       "</table>\n",
       "</div>"
      ],
      "text/plain": [
       "                      Student ID  reading_score  math_score  School ID  \\\n",
       "school_name                                                              \n",
       "Bailey High School       20358.5      81.033963   77.048432        7.0   \n",
       "Cabrera High School      16941.5      83.975780   83.061895        6.0   \n",
       "Figueroa High School      4391.0      81.158020   76.711767        1.0   \n",
       "Ford High School         36165.0      80.746258   77.102592       13.0   \n",
       "Griffin High School      12995.5      83.816757   83.351499        4.0   \n",
       "\n",
       "                        size     budget  \n",
       "school_name                              \n",
       "Bailey High School    4976.0  3124928.0  \n",
       "Cabrera High School   1858.0  1081356.0  \n",
       "Figueroa High School  2949.0  1884411.0  \n",
       "Ford High School      2739.0  1763916.0  \n",
       "Griffin High School   1468.0   917500.0  "
      ]
     },
     "execution_count": 22,
     "metadata": {},
     "output_type": "execute_result"
    }
   ],
   "source": [
    "schools_df = pd.DataFrame(merged.groupby(\"school_name\").mean())\n",
    "schools_df.head()"
   ]
  },
  {
   "cell_type": "code",
   "execution_count": 23,
   "id": "474ca7da",
   "metadata": {},
   "outputs": [],
   "source": [
    "type = merged.groupby(\"school_name\").type.unique()"
   ]
  },
  {
   "cell_type": "code",
   "execution_count": 24,
   "id": "33d361e7",
   "metadata": {},
   "outputs": [],
   "source": [
    "per_student_budget = (schools_df[\"budget\"])/school_num_students"
   ]
  },
  {
   "cell_type": "code",
   "execution_count": 25,
   "id": "f62ae875",
   "metadata": {},
   "outputs": [],
   "source": [
    "del schools_df[\"Student ID\"]\n",
    "del schools_df[\"School ID\"]"
   ]
  },
  {
   "cell_type": "code",
   "execution_count": 26,
   "id": "a7ea8b0e",
   "metadata": {},
   "outputs": [],
   "source": [
    "new_schools_df = schools_df.rename(columns=\n",
    "{\n",
    "    \"school_name\": \"School Name\",\n",
    "    \"reading_score\": \"Average Reading Score\",\n",
    "    \"math_score\": \"Average Math Score\",\n",
    "    \"budget\": \"Total School Budget\",\n",
    "    \"size\": \"Total Students\"\n",
    "})"
   ]
  },
  {
   "cell_type": "code",
   "execution_count": 44,
   "id": "acef7e44",
   "metadata": {},
   "outputs": [
    {
     "data": {
      "text/html": [
       "<div>\n",
       "<style scoped>\n",
       "    .dataframe tbody tr th:only-of-type {\n",
       "        vertical-align: middle;\n",
       "    }\n",
       "\n",
       "    .dataframe tbody tr th {\n",
       "        vertical-align: top;\n",
       "    }\n",
       "\n",
       "    .dataframe thead th {\n",
       "        text-align: right;\n",
       "    }\n",
       "</style>\n",
       "<table border=\"1\" class=\"dataframe\">\n",
       "  <thead>\n",
       "    <tr style=\"text-align: right;\">\n",
       "      <th></th>\n",
       "      <th>Average Reading Score</th>\n",
       "      <th>Average Math Score</th>\n",
       "      <th>Total Students</th>\n",
       "      <th>Total School Budget</th>\n",
       "      <th>Type</th>\n",
       "      <th>Per Student Budget</th>\n",
       "      <th>Passing Math</th>\n",
       "      <th>Passing Reading</th>\n",
       "      <th>Overall Passing</th>\n",
       "    </tr>\n",
       "    <tr>\n",
       "      <th>school_name</th>\n",
       "      <th></th>\n",
       "      <th></th>\n",
       "      <th></th>\n",
       "      <th></th>\n",
       "      <th></th>\n",
       "      <th></th>\n",
       "      <th></th>\n",
       "      <th></th>\n",
       "      <th></th>\n",
       "    </tr>\n",
       "  </thead>\n",
       "  <tbody>\n",
       "    <tr>\n",
       "      <th>Bailey High School</th>\n",
       "      <td>81.033963</td>\n",
       "      <td>77.048432</td>\n",
       "      <td>4976</td>\n",
       "      <td>3124928.0</td>\n",
       "      <td>[District]</td>\n",
       "      <td>628.0</td>\n",
       "      <td>66.680064</td>\n",
       "      <td>81.933280</td>\n",
       "      <td>54.642283</td>\n",
       "    </tr>\n",
       "    <tr>\n",
       "      <th>Cabrera High School</th>\n",
       "      <td>83.975780</td>\n",
       "      <td>83.061895</td>\n",
       "      <td>1858</td>\n",
       "      <td>1081356.0</td>\n",
       "      <td>[Charter]</td>\n",
       "      <td>582.0</td>\n",
       "      <td>94.133477</td>\n",
       "      <td>97.039828</td>\n",
       "      <td>91.334769</td>\n",
       "    </tr>\n",
       "    <tr>\n",
       "      <th>Figueroa High School</th>\n",
       "      <td>81.158020</td>\n",
       "      <td>76.711767</td>\n",
       "      <td>2949</td>\n",
       "      <td>1884411.0</td>\n",
       "      <td>[District]</td>\n",
       "      <td>639.0</td>\n",
       "      <td>65.988471</td>\n",
       "      <td>80.739234</td>\n",
       "      <td>53.204476</td>\n",
       "    </tr>\n",
       "    <tr>\n",
       "      <th>Ford High School</th>\n",
       "      <td>80.746258</td>\n",
       "      <td>77.102592</td>\n",
       "      <td>2739</td>\n",
       "      <td>1763916.0</td>\n",
       "      <td>[District]</td>\n",
       "      <td>644.0</td>\n",
       "      <td>68.309602</td>\n",
       "      <td>79.299014</td>\n",
       "      <td>54.289887</td>\n",
       "    </tr>\n",
       "    <tr>\n",
       "      <th>Griffin High School</th>\n",
       "      <td>83.816757</td>\n",
       "      <td>83.351499</td>\n",
       "      <td>1468</td>\n",
       "      <td>917500.0</td>\n",
       "      <td>[Charter]</td>\n",
       "      <td>625.0</td>\n",
       "      <td>93.392371</td>\n",
       "      <td>97.138965</td>\n",
       "      <td>90.599455</td>\n",
       "    </tr>\n",
       "    <tr>\n",
       "      <th>Hernandez High School</th>\n",
       "      <td>80.934412</td>\n",
       "      <td>77.289752</td>\n",
       "      <td>4635</td>\n",
       "      <td>3022020.0</td>\n",
       "      <td>[District]</td>\n",
       "      <td>652.0</td>\n",
       "      <td>66.752967</td>\n",
       "      <td>80.862999</td>\n",
       "      <td>53.527508</td>\n",
       "    </tr>\n",
       "    <tr>\n",
       "      <th>Holden High School</th>\n",
       "      <td>83.814988</td>\n",
       "      <td>83.803279</td>\n",
       "      <td>427</td>\n",
       "      <td>248087.0</td>\n",
       "      <td>[Charter]</td>\n",
       "      <td>581.0</td>\n",
       "      <td>92.505855</td>\n",
       "      <td>96.252927</td>\n",
       "      <td>89.227166</td>\n",
       "    </tr>\n",
       "    <tr>\n",
       "      <th>Huang High School</th>\n",
       "      <td>81.182722</td>\n",
       "      <td>76.629414</td>\n",
       "      <td>2917</td>\n",
       "      <td>1910635.0</td>\n",
       "      <td>[District]</td>\n",
       "      <td>655.0</td>\n",
       "      <td>65.683922</td>\n",
       "      <td>81.316421</td>\n",
       "      <td>53.513884</td>\n",
       "    </tr>\n",
       "    <tr>\n",
       "      <th>Johnson High School</th>\n",
       "      <td>80.966394</td>\n",
       "      <td>77.072464</td>\n",
       "      <td>4761</td>\n",
       "      <td>3094650.0</td>\n",
       "      <td>[District]</td>\n",
       "      <td>650.0</td>\n",
       "      <td>66.057551</td>\n",
       "      <td>81.222432</td>\n",
       "      <td>53.539172</td>\n",
       "    </tr>\n",
       "    <tr>\n",
       "      <th>Pena High School</th>\n",
       "      <td>84.044699</td>\n",
       "      <td>83.839917</td>\n",
       "      <td>962</td>\n",
       "      <td>585858.0</td>\n",
       "      <td>[Charter]</td>\n",
       "      <td>609.0</td>\n",
       "      <td>94.594595</td>\n",
       "      <td>95.945946</td>\n",
       "      <td>90.540541</td>\n",
       "    </tr>\n",
       "    <tr>\n",
       "      <th>Rodriguez High School</th>\n",
       "      <td>80.744686</td>\n",
       "      <td>76.842711</td>\n",
       "      <td>3999</td>\n",
       "      <td>2547363.0</td>\n",
       "      <td>[District]</td>\n",
       "      <td>637.0</td>\n",
       "      <td>66.366592</td>\n",
       "      <td>80.220055</td>\n",
       "      <td>52.988247</td>\n",
       "    </tr>\n",
       "    <tr>\n",
       "      <th>Shelton High School</th>\n",
       "      <td>83.725724</td>\n",
       "      <td>83.359455</td>\n",
       "      <td>1761</td>\n",
       "      <td>1056600.0</td>\n",
       "      <td>[Charter]</td>\n",
       "      <td>600.0</td>\n",
       "      <td>93.867121</td>\n",
       "      <td>95.854628</td>\n",
       "      <td>89.892107</td>\n",
       "    </tr>\n",
       "    <tr>\n",
       "      <th>Thomas High School</th>\n",
       "      <td>83.848930</td>\n",
       "      <td>83.418349</td>\n",
       "      <td>1635</td>\n",
       "      <td>1043130.0</td>\n",
       "      <td>[Charter]</td>\n",
       "      <td>638.0</td>\n",
       "      <td>93.272171</td>\n",
       "      <td>97.308869</td>\n",
       "      <td>90.948012</td>\n",
       "    </tr>\n",
       "    <tr>\n",
       "      <th>Wilson High School</th>\n",
       "      <td>83.989488</td>\n",
       "      <td>83.274201</td>\n",
       "      <td>2283</td>\n",
       "      <td>1319574.0</td>\n",
       "      <td>[Charter]</td>\n",
       "      <td>578.0</td>\n",
       "      <td>93.867718</td>\n",
       "      <td>96.539641</td>\n",
       "      <td>90.582567</td>\n",
       "    </tr>\n",
       "    <tr>\n",
       "      <th>Wright High School</th>\n",
       "      <td>83.955000</td>\n",
       "      <td>83.682222</td>\n",
       "      <td>1800</td>\n",
       "      <td>1049400.0</td>\n",
       "      <td>[Charter]</td>\n",
       "      <td>583.0</td>\n",
       "      <td>93.333333</td>\n",
       "      <td>96.611111</td>\n",
       "      <td>90.333333</td>\n",
       "    </tr>\n",
       "  </tbody>\n",
       "</table>\n",
       "</div>"
      ],
      "text/plain": [
       "                       Average Reading Score  Average Math Score  \\\n",
       "school_name                                                        \n",
       "Bailey High School                 81.033963           77.048432   \n",
       "Cabrera High School                83.975780           83.061895   \n",
       "Figueroa High School               81.158020           76.711767   \n",
       "Ford High School                   80.746258           77.102592   \n",
       "Griffin High School                83.816757           83.351499   \n",
       "Hernandez High School              80.934412           77.289752   \n",
       "Holden High School                 83.814988           83.803279   \n",
       "Huang High School                  81.182722           76.629414   \n",
       "Johnson High School                80.966394           77.072464   \n",
       "Pena High School                   84.044699           83.839917   \n",
       "Rodriguez High School              80.744686           76.842711   \n",
       "Shelton High School                83.725724           83.359455   \n",
       "Thomas High School                 83.848930           83.418349   \n",
       "Wilson High School                 83.989488           83.274201   \n",
       "Wright High School                 83.955000           83.682222   \n",
       "\n",
       "                       Total Students  Total School Budget        Type  \\\n",
       "school_name                                                              \n",
       "Bailey High School               4976            3124928.0  [District]   \n",
       "Cabrera High School              1858            1081356.0   [Charter]   \n",
       "Figueroa High School             2949            1884411.0  [District]   \n",
       "Ford High School                 2739            1763916.0  [District]   \n",
       "Griffin High School              1468             917500.0   [Charter]   \n",
       "Hernandez High School            4635            3022020.0  [District]   \n",
       "Holden High School                427             248087.0   [Charter]   \n",
       "Huang High School                2917            1910635.0  [District]   \n",
       "Johnson High School              4761            3094650.0  [District]   \n",
       "Pena High School                  962             585858.0   [Charter]   \n",
       "Rodriguez High School            3999            2547363.0  [District]   \n",
       "Shelton High School              1761            1056600.0   [Charter]   \n",
       "Thomas High School               1635            1043130.0   [Charter]   \n",
       "Wilson High School               2283            1319574.0   [Charter]   \n",
       "Wright High School               1800            1049400.0   [Charter]   \n",
       "\n",
       "                       Per Student Budget  Passing Math  Passing Reading  \\\n",
       "school_name                                                                \n",
       "Bailey High School                  628.0     66.680064        81.933280   \n",
       "Cabrera High School                 582.0     94.133477        97.039828   \n",
       "Figueroa High School                639.0     65.988471        80.739234   \n",
       "Ford High School                    644.0     68.309602        79.299014   \n",
       "Griffin High School                 625.0     93.392371        97.138965   \n",
       "Hernandez High School               652.0     66.752967        80.862999   \n",
       "Holden High School                  581.0     92.505855        96.252927   \n",
       "Huang High School                   655.0     65.683922        81.316421   \n",
       "Johnson High School                 650.0     66.057551        81.222432   \n",
       "Pena High School                    609.0     94.594595        95.945946   \n",
       "Rodriguez High School               637.0     66.366592        80.220055   \n",
       "Shelton High School                 600.0     93.867121        95.854628   \n",
       "Thomas High School                  638.0     93.272171        97.308869   \n",
       "Wilson High School                  578.0     93.867718        96.539641   \n",
       "Wright High School                  583.0     93.333333        96.611111   \n",
       "\n",
       "                       Overall Passing  \n",
       "school_name                             \n",
       "Bailey High School           54.642283  \n",
       "Cabrera High School          91.334769  \n",
       "Figueroa High School         53.204476  \n",
       "Ford High School             54.289887  \n",
       "Griffin High School          90.599455  \n",
       "Hernandez High School        53.527508  \n",
       "Holden High School           89.227166  \n",
       "Huang High School            53.513884  \n",
       "Johnson High School          53.539172  \n",
       "Pena High School             90.540541  \n",
       "Rodriguez High School        52.988247  \n",
       "Shelton High School          89.892107  \n",
       "Thomas High School           90.948012  \n",
       "Wilson High School           90.582567  \n",
       "Wright High School           90.333333  "
      ]
     },
     "execution_count": 44,
     "metadata": {},
     "output_type": "execute_result"
    }
   ],
   "source": [
    "new_schools_df[\"Type\"] = type\n",
    "new_schools_df[\"Per Student Budget\"] = per_student_budget\n",
    "new_schools_df[\"Total Students\"] = school_num_students\n",
    "new_schools_df[\"Passing Math\"] = (school_pass_math/school_num_students)*100\n",
    "new_schools_df[\"Passing Reading\"] = (school_pass_read/school_num_students)*100\n",
    "new_schools_df[\"Overall Passing\"] = school_percent_passing\n",
    "new_schools_df"
   ]
  },
  {
   "cell_type": "code",
   "execution_count": null,
   "id": "10f7db5d",
   "metadata": {},
   "outputs": [],
   "source": []
  }
 ],
 "metadata": {
  "kernelspec": {
   "display_name": "Python 3",
   "language": "python",
   "name": "python3"
  },
  "language_info": {
   "codemirror_mode": {
    "name": "ipython",
    "version": 3
   },
   "file_extension": ".py",
   "mimetype": "text/x-python",
   "name": "python",
   "nbconvert_exporter": "python",
   "pygments_lexer": "ipython3",
   "version": "3.6.10"
  }
 },
 "nbformat": 4,
 "nbformat_minor": 5
}
