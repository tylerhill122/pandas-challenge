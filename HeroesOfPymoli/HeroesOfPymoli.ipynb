{
 "cells": [
  {
   "cell_type": "code",
   "execution_count": 36,
   "id": "bc8fd82f",
   "metadata": {},
   "outputs": [],
   "source": [
    "# Dependencies and Setup\n",
    "import pandas as pd\n",
    "\n",
    "# File to Load (Remember to Change These)\n",
    "file_to_load = \"Resources/purchase_data.csv\"\n",
    "\n",
    "# Read Purchasing File and store into Pandas data frame\n",
    "purchase_data = pd.read_csv(file_to_load)"
   ]
  },
  {
   "cell_type": "code",
   "execution_count": 37,
   "id": "bd152aab",
   "metadata": {},
   "outputs": [
    {
     "data": {
      "text/html": [
       "<div>\n",
       "<style scoped>\n",
       "    .dataframe tbody tr th:only-of-type {\n",
       "        vertical-align: middle;\n",
       "    }\n",
       "\n",
       "    .dataframe tbody tr th {\n",
       "        vertical-align: top;\n",
       "    }\n",
       "\n",
       "    .dataframe thead th {\n",
       "        text-align: right;\n",
       "    }\n",
       "</style>\n",
       "<table border=\"1\" class=\"dataframe\">\n",
       "  <thead>\n",
       "    <tr style=\"text-align: right;\">\n",
       "      <th></th>\n",
       "      <th>Purchase ID</th>\n",
       "      <th>SN</th>\n",
       "      <th>Age</th>\n",
       "      <th>Gender</th>\n",
       "      <th>Item ID</th>\n",
       "      <th>Item Name</th>\n",
       "      <th>Price</th>\n",
       "    </tr>\n",
       "  </thead>\n",
       "  <tbody>\n",
       "    <tr>\n",
       "      <th>0</th>\n",
       "      <td>0</td>\n",
       "      <td>Lisim78</td>\n",
       "      <td>20</td>\n",
       "      <td>Male</td>\n",
       "      <td>108</td>\n",
       "      <td>Extraction, Quickblade Of Trembling Hands</td>\n",
       "      <td>3.53</td>\n",
       "    </tr>\n",
       "    <tr>\n",
       "      <th>1</th>\n",
       "      <td>1</td>\n",
       "      <td>Lisovynya38</td>\n",
       "      <td>40</td>\n",
       "      <td>Male</td>\n",
       "      <td>143</td>\n",
       "      <td>Frenzied Scimitar</td>\n",
       "      <td>1.56</td>\n",
       "    </tr>\n",
       "    <tr>\n",
       "      <th>2</th>\n",
       "      <td>2</td>\n",
       "      <td>Ithergue48</td>\n",
       "      <td>24</td>\n",
       "      <td>Male</td>\n",
       "      <td>92</td>\n",
       "      <td>Final Critic</td>\n",
       "      <td>4.88</td>\n",
       "    </tr>\n",
       "    <tr>\n",
       "      <th>3</th>\n",
       "      <td>3</td>\n",
       "      <td>Chamassasya86</td>\n",
       "      <td>24</td>\n",
       "      <td>Male</td>\n",
       "      <td>100</td>\n",
       "      <td>Blindscythe</td>\n",
       "      <td>3.27</td>\n",
       "    </tr>\n",
       "    <tr>\n",
       "      <th>4</th>\n",
       "      <td>4</td>\n",
       "      <td>Iskosia90</td>\n",
       "      <td>23</td>\n",
       "      <td>Male</td>\n",
       "      <td>131</td>\n",
       "      <td>Fury</td>\n",
       "      <td>1.44</td>\n",
       "    </tr>\n",
       "  </tbody>\n",
       "</table>\n",
       "</div>"
      ],
      "text/plain": [
       "   Purchase ID             SN  Age Gender  Item ID  \\\n",
       "0            0        Lisim78   20   Male      108   \n",
       "1            1    Lisovynya38   40   Male      143   \n",
       "2            2     Ithergue48   24   Male       92   \n",
       "3            3  Chamassasya86   24   Male      100   \n",
       "4            4      Iskosia90   23   Male      131   \n",
       "\n",
       "                                   Item Name  Price  \n",
       "0  Extraction, Quickblade Of Trembling Hands   3.53  \n",
       "1                          Frenzied Scimitar   1.56  \n",
       "2                               Final Critic   4.88  \n",
       "3                                Blindscythe   3.27  \n",
       "4                                       Fury   1.44  "
      ]
     },
     "execution_count": 37,
     "metadata": {},
     "output_type": "execute_result"
    }
   ],
   "source": [
    "purchase_df = pd.DataFrame(purchase_data)\n",
    "purchase_df.head()"
   ]
  },
  {
   "cell_type": "code",
   "execution_count": 38,
   "id": "ab6da737",
   "metadata": {},
   "outputs": [],
   "source": [
    "users = purchase_df[\"SN\"].unique()\n",
    "total_users = len(users)"
   ]
  },
  {
   "cell_type": "code",
   "execution_count": 39,
   "id": "4bf207dc",
   "metadata": {},
   "outputs": [],
   "source": [
    "unique_items = purchase_df[\"Item ID\"].unique()\n",
    "num_unique_items = len(unique_items)"
   ]
  },
  {
   "cell_type": "code",
   "execution_count": 40,
   "id": "12d012e3",
   "metadata": {},
   "outputs": [],
   "source": [
    "average_price = purchase_df[\"Price\"].mean()"
   ]
  },
  {
   "cell_type": "code",
   "execution_count": 41,
   "id": "5b9b5490",
   "metadata": {},
   "outputs": [],
   "source": [
    "num_purchases = purchase_df[\"Purchase ID\"].count()"
   ]
  },
  {
   "cell_type": "code",
   "execution_count": 42,
   "id": "1ef1f048",
   "metadata": {},
   "outputs": [],
   "source": [
    "total_revenue = purchase_df[\"Price\"].sum()"
   ]
  },
  {
   "cell_type": "code",
   "execution_count": 52,
   "id": "e987468e",
   "metadata": {},
   "outputs": [],
   "source": [
    "### Purchasing Analysis DataFrame ###\n",
    "purchasing = {\"Number of Unique Items\":num_unique_items,\n",
    "        \"Average Price\":average_price,\n",
    "        \"Number of Purchases\":num_purchases,\n",
    "        \"Total Revenue\":total_revenue}\n",
    "purchasing_df = pd.DataFrame(purchasing, index=[0])"
   ]
  },
  {
   "cell_type": "code",
   "execution_count": 53,
   "id": "f8cf17c7",
   "metadata": {},
   "outputs": [
    {
     "data": {
      "text/html": [
       "<div>\n",
       "<style scoped>\n",
       "    .dataframe tbody tr th:only-of-type {\n",
       "        vertical-align: middle;\n",
       "    }\n",
       "\n",
       "    .dataframe tbody tr th {\n",
       "        vertical-align: top;\n",
       "    }\n",
       "\n",
       "    .dataframe thead th {\n",
       "        text-align: right;\n",
       "    }\n",
       "</style>\n",
       "<table border=\"1\" class=\"dataframe\">\n",
       "  <thead>\n",
       "    <tr style=\"text-align: right;\">\n",
       "      <th></th>\n",
       "      <th>Number of Unique Items</th>\n",
       "      <th>Average Price</th>\n",
       "      <th>Number of Purchases</th>\n",
       "      <th>Total Revenue</th>\n",
       "    </tr>\n",
       "  </thead>\n",
       "  <tbody>\n",
       "    <tr>\n",
       "      <th>0</th>\n",
       "      <td>179</td>\n",
       "      <td>$3.05</td>\n",
       "      <td>780</td>\n",
       "      <td>$2,379.77</td>\n",
       "    </tr>\n",
       "  </tbody>\n",
       "</table>\n",
       "</div>"
      ],
      "text/plain": [
       "   Number of Unique Items Average Price  Number of Purchases Total Revenue\n",
       "0                     179         $3.05                  780     $2,379.77"
      ]
     },
     "execution_count": 53,
     "metadata": {},
     "output_type": "execute_result"
    }
   ],
   "source": [
    "purchasing_df[\"Average Price\"] = purchasing_df[\"Average Price\"].map(\"${:,.2f}\".format)\n",
    "purchasing_df[\"Total Revenue\"] = purchasing_df[\"Total Revenue\"].map(\"${:,.2f}\".format)\n",
    "purchasing_df"
   ]
  },
  {
   "cell_type": "code",
   "execution_count": 135,
   "id": "b5618764",
   "metadata": {},
   "outputs": [],
   "source": [
    "### Gender Demographics ###\n",
    "\n",
    "male = purchase_df.loc[(purchase_df[\"Gender\"] == \"Male\"), :]\n",
    "num_male = len(male[\"SN\"].unique())\n",
    "percent_male = (num_male / total_users)*100\n",
    "\n",
    "female = purchase_df.loc[(purchase_df[\"Gender\"] == \"Female\"), :]\n",
    "num_female = len(female[\"SN\"].unique())\n",
    "percent_female = (num_female / total_users)*100\n",
    "\n",
    "other = purchase_df.loc[(purchase_df[\"Gender\"] == \"Other / Non-Disclosed\"), :]\n",
    "num_other = len(other[\"SN\"].unique())\n",
    "percent_other = (num_other / total_users)*100\n",
    "\n",
    "gender_count = [num_male, num_female, num_other]\n",
    "gender_percent = [percent_male, percent_female, percent_other]"
   ]
  },
  {
   "cell_type": "code",
   "execution_count": 151,
   "id": "ffa0670d",
   "metadata": {},
   "outputs": [
    {
     "data": {
      "text/html": [
       "<div>\n",
       "<style scoped>\n",
       "    .dataframe tbody tr th:only-of-type {\n",
       "        vertical-align: middle;\n",
       "    }\n",
       "\n",
       "    .dataframe tbody tr th {\n",
       "        vertical-align: top;\n",
       "    }\n",
       "\n",
       "    .dataframe thead th {\n",
       "        text-align: right;\n",
       "    }\n",
       "</style>\n",
       "<table border=\"1\" class=\"dataframe\">\n",
       "  <thead>\n",
       "    <tr style=\"text-align: right;\">\n",
       "      <th></th>\n",
       "      <th>Total Count</th>\n",
       "      <th>Percentage of Players</th>\n",
       "    </tr>\n",
       "    <tr>\n",
       "      <th>Gender</th>\n",
       "      <th></th>\n",
       "      <th></th>\n",
       "    </tr>\n",
       "  </thead>\n",
       "  <tbody>\n",
       "    <tr>\n",
       "      <th>Female</th>\n",
       "      <td>484</td>\n",
       "      <td>84.03%</td>\n",
       "    </tr>\n",
       "    <tr>\n",
       "      <th>Male</th>\n",
       "      <td>81</td>\n",
       "      <td>14.06%</td>\n",
       "    </tr>\n",
       "    <tr>\n",
       "      <th>Other / Non-Disclosed</th>\n",
       "      <td>11</td>\n",
       "      <td>1.91%</td>\n",
       "    </tr>\n",
       "  </tbody>\n",
       "</table>\n",
       "</div>"
      ],
      "text/plain": [
       "                       Total Count Percentage of Players\n",
       "Gender                                                  \n",
       "Female                         484                84.03%\n",
       "Male                            81                14.06%\n",
       "Other / Non-Disclosed           11                 1.91%"
      ]
     },
     "execution_count": 151,
     "metadata": {},
     "output_type": "execute_result"
    }
   ],
   "source": [
    "genders_df = pd.DataFrame(purchase_df.groupby(\"Gender\").sum())\n",
    "genders_df[\"Total Count\"] = gender_count\n",
    "genders_df[\"Percentage of Players\"] = gender_percent\n",
    "genders_df[\"Percentage of Players\"] = genders_df[\"Percentage of Players\"].map(\"{:,.2f}%\".format)\n",
    "genders_df = genders_df[[\"Total Count\",\"Percentage of Players\"]]\n",
    "genders_df.head()"
   ]
  },
  {
   "cell_type": "code",
   "execution_count": 174,
   "id": "8004e75e",
   "metadata": {},
   "outputs": [],
   "source": [
    "male_purchase_count = male[\"Purchase ID\"].count()\n",
    "female_purchase_count = female[\"Purchase ID\"].count()\n",
    "other_purchase_count = other[\"Purchase ID\"].count()\n",
    "purchase_count = [female_purchase_count, male_purchase_count, other_purchase_count]\n",
    "\n",
    "total_male = male[\"Price\"].sum()\n",
    "total_female = female[\"Price\"].sum()\n",
    "total_other = other[\"Price\"].sum()\n",
    "purchase_value = [total_female, total_male, total_other]\n",
    "\n",
    "male_avg = total_male / num_male\n",
    "female_avg = total_female / num_female\n",
    "other_avg = total_other / num_other\n",
    "avg = [female_avg, male_avg, other_avg]"
   ]
  },
  {
   "cell_type": "code",
   "execution_count": 187,
   "id": "16125d45",
   "metadata": {
    "scrolled": true
   },
   "outputs": [
    {
     "data": {
      "text/html": [
       "<div>\n",
       "<style scoped>\n",
       "    .dataframe tbody tr th:only-of-type {\n",
       "        vertical-align: middle;\n",
       "    }\n",
       "\n",
       "    .dataframe tbody tr th {\n",
       "        vertical-align: top;\n",
       "    }\n",
       "\n",
       "    .dataframe thead th {\n",
       "        text-align: right;\n",
       "    }\n",
       "</style>\n",
       "<table border=\"1\" class=\"dataframe\">\n",
       "  <thead>\n",
       "    <tr style=\"text-align: right;\">\n",
       "      <th></th>\n",
       "      <th>Purchase Count</th>\n",
       "      <th>Average Purchase Price</th>\n",
       "      <th>Total Purchase Value</th>\n",
       "      <th>Avg Total Purchase per Person</th>\n",
       "    </tr>\n",
       "    <tr>\n",
       "      <th>Gender</th>\n",
       "      <th></th>\n",
       "      <th></th>\n",
       "      <th></th>\n",
       "      <th></th>\n",
       "    </tr>\n",
       "  </thead>\n",
       "  <tbody>\n",
       "    <tr>\n",
       "      <th>Female</th>\n",
       "      <td>113</td>\n",
       "      <td>$3.20</td>\n",
       "      <td>$361.94</td>\n",
       "      <td>$4.47</td>\n",
       "    </tr>\n",
       "    <tr>\n",
       "      <th>Male</th>\n",
       "      <td>652</td>\n",
       "      <td>$3.02</td>\n",
       "      <td>$1,967.64</td>\n",
       "      <td>$4.07</td>\n",
       "    </tr>\n",
       "    <tr>\n",
       "      <th>Other / Non-Disclosed</th>\n",
       "      <td>15</td>\n",
       "      <td>$3.35</td>\n",
       "      <td>$50.19</td>\n",
       "      <td>$4.56</td>\n",
       "    </tr>\n",
       "  </tbody>\n",
       "</table>\n",
       "</div>"
      ],
      "text/plain": [
       "                       Purchase Count Average Purchase Price  \\\n",
       "Gender                                                         \n",
       "Female                            113                  $3.20   \n",
       "Male                              652                  $3.02   \n",
       "Other / Non-Disclosed              15                  $3.35   \n",
       "\n",
       "                      Total Purchase Value Avg Total Purchase per Person  \n",
       "Gender                                                                    \n",
       "Female                             $361.94                         $4.47  \n",
       "Male                             $1,967.64                         $4.07  \n",
       "Other / Non-Disclosed               $50.19                         $4.56  "
      ]
     },
     "execution_count": 187,
     "metadata": {},
     "output_type": "execute_result"
    }
   ],
   "source": [
    "### Purchasing Analysis (Gender) ###\n",
    "gender_analysis_df = pd.DataFrame(purchase_df.groupby(\"Gender\").mean())\n",
    "gender_analysis_df[\"Purchase Count\"] = purchase_count\n",
    "gender_analysis_df[\"Total Purchase Value\"] = purchase_value\n",
    "gender_analysis_df[\"Total Purchase Value\"] = gender_analysis_df[\"Total Purchase Value\"].map(\"${:,.2f}\".format)\n",
    "gender_analysis_df[\"Avg Total Purchase per Person\"] = avg\n",
    "gender_analysis_df[\"Avg Total Purchase per Person\"] = gender_analysis_df[\"Avg Total Purchase per Person\"].map(\"${:,.2f}\".format)\n",
    "gender_analysis_df[\"Price\"] = gender_analysis_df[\"Price\"].map(\"${:,.2f}\".format)\n",
    "gender_analysis_df = gender_analysis_df[[\"Purchase Count\",\"Price\",\"Total Purchase Value\",\"Avg Total Purchase per Person\"]]\n",
    "gender_analysis_new = gender_analysis_df.rename(columns={\"Price\":\"Average Purchase Price\"})\n",
    "gender_analysis_new.head()"
   ]
  },
  {
   "cell_type": "code",
   "execution_count": null,
   "id": "b04904ef",
   "metadata": {},
   "outputs": [],
   "source": []
  }
 ],
 "metadata": {
  "kernelspec": {
   "display_name": "Python 3",
   "language": "python",
   "name": "python3"
  },
  "language_info": {
   "codemirror_mode": {
    "name": "ipython",
    "version": 3
   },
   "file_extension": ".py",
   "mimetype": "text/x-python",
   "name": "python",
   "nbconvert_exporter": "python",
   "pygments_lexer": "ipython3",
   "version": "3.6.10"
  }
 },
 "nbformat": 4,
 "nbformat_minor": 5
}
